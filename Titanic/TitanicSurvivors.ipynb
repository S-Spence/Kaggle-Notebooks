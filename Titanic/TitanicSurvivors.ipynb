{
 "cells": [
  {
   "cell_type": "markdown",
   "metadata": {
    "papermill": {
     "duration": 0.017504,
     "end_time": "2021-02-01T14:03:16.566048",
     "exception": false,
     "start_time": "2021-02-01T14:03:16.548544",
     "status": "completed"
    },
    "tags": []
   },
   "source": [
    "**Titanic Solution 1**\n",
    "\n",
    "This notebook is my first solution to predict survivors aboard the Titanic. Kaggle pre-split the training and test datasets. The training set includes 891 observations and 12 features, and the test set consists of 418 observations and 11 features. I used fifteen percent of the training set for a validation set due to limited observations. The features used in this analysis include age, gender(Sex), ticket class(Pclass), number of family members(Family), and fare. This notebook fits a random forest and a logistic regression model to the dataset. "
   ]
  },
  {
   "cell_type": "code",
   "execution_count": 1,
   "metadata": {
    "_cell_guid": "b1076dfc-b9ad-4769-8c92-a6c4dae69d19",
    "_uuid": "8f2839f25d086af736a60e9eeb907d3b93b6e0e5",
    "execution": {
     "iopub.execute_input": "2021-02-01T14:03:16.602576Z",
     "iopub.status.busy": "2021-02-01T14:03:16.601945Z",
     "iopub.status.idle": "2021-02-01T14:03:17.748750Z",
     "shell.execute_reply": "2021-02-01T14:03:17.748038Z"
    },
    "papermill": {
     "duration": 1.166015,
     "end_time": "2021-02-01T14:03:17.748898",
     "exception": false,
     "start_time": "2021-02-01T14:03:16.582883",
     "status": "completed"
    },
    "tags": []
   },
   "outputs": [
    {
     "name": "stdout",
     "output_type": "stream",
     "text": [
      "/kaggle/input/titanic/train.csv\n",
      "/kaggle/input/titanic/test.csv\n",
      "/kaggle/input/titanic/gender_submission.csv\n"
     ]
    }
   ],
   "source": [
    "# This Python 3 environment comes with many helpful analytics libraries installed\n",
    "# It is defined by the kaggle/python Docker image: https://github.com/kaggle/docker-python\n",
    "# For example, here's several helpful packages to load\n",
    "\n",
    "import numpy as np                                         # Linear algebra\n",
    "import pandas as pd                                        # Data processing, CSV file I/O (e.g. pd.read_csv)\n",
    "import matplotlib.pyplot as plt                            # Plots\n",
    "from sklearn.ensemble import RandomForestClassifier        # Random forest\n",
    "from sklearn import metrics                                # Accuracy measurement\n",
    "from sklearn.metrics import plot_confusion_matrix          # Confusion matrix evaluation\n",
    "from sklearn.linear_model import LogisticRegression        # Logistic regression\n",
    "from sklearn.metrics import classification_report          # Regression classification report\n",
    "from sklearn.model_selection import RandomizedSearchCV     # Tune decision tree params\n",
    "from sklearn.ensemble import RandomForestRegressor         # Tune decision tree params\n",
    "from sklearn.model_selection import GridSearchCV           # Tune params\n",
    "\n",
    "# Input data files are available in the read-only \"../input/\" directory\n",
    "# For example, running this (by clicking run or pressing Shift+Enter) will list all files under the input directory\n",
    "\n",
    "import os\n",
    "for dirname, _, filenames in os.walk('/kaggle/input'):\n",
    "    for filename in filenames:\n",
    "        print(os.path.join(dirname, filename))\n",
    "\n",
    "# You can write up to 20GB to the current directory (/kaggle/working/) that gets preserved as output when you create a version using \"Save & Run All\" \n",
    "# You can also write temporary files to /kaggle/temp/, but they won't be saved outside of the current session"
   ]
  },
  {
   "cell_type": "markdown",
   "metadata": {
    "papermill": {
     "duration": 0.016844,
     "end_time": "2021-02-01T14:03:17.783730",
     "exception": false,
     "start_time": "2021-02-01T14:03:17.766886",
     "status": "completed"
    },
    "tags": []
   },
   "source": [
    "The sections below read the data and check for missing variables. "
   ]
  },
  {
   "cell_type": "code",
   "execution_count": 2,
   "metadata": {
    "execution": {
     "iopub.execute_input": "2021-02-01T14:03:17.826709Z",
     "iopub.status.busy": "2021-02-01T14:03:17.826017Z",
     "iopub.status.idle": "2021-02-01T14:03:17.892751Z",
     "shell.execute_reply": "2021-02-01T14:03:17.893279Z"
    },
    "papermill": {
     "duration": 0.091962,
     "end_time": "2021-02-01T14:03:17.893423",
     "exception": false,
     "start_time": "2021-02-01T14:03:17.801461",
     "status": "completed"
    },
    "tags": []
   },
   "outputs": [
    {
     "data": {
      "text/html": [
       "<div>\n",
       "<style scoped>\n",
       "    .dataframe tbody tr th:only-of-type {\n",
       "        vertical-align: middle;\n",
       "    }\n",
       "\n",
       "    .dataframe tbody tr th {\n",
       "        vertical-align: top;\n",
       "    }\n",
       "\n",
       "    .dataframe thead th {\n",
       "        text-align: right;\n",
       "    }\n",
       "</style>\n",
       "<table border=\"1\" class=\"dataframe\">\n",
       "  <thead>\n",
       "    <tr style=\"text-align: right;\">\n",
       "      <th></th>\n",
       "      <th>PassengerId</th>\n",
       "      <th>Survived</th>\n",
       "      <th>Pclass</th>\n",
       "      <th>Name</th>\n",
       "      <th>Sex</th>\n",
       "      <th>Age</th>\n",
       "      <th>SibSp</th>\n",
       "      <th>Parch</th>\n",
       "      <th>Ticket</th>\n",
       "      <th>Fare</th>\n",
       "      <th>Cabin</th>\n",
       "      <th>Embarked</th>\n",
       "    </tr>\n",
       "  </thead>\n",
       "  <tbody>\n",
       "    <tr>\n",
       "      <th>0</th>\n",
       "      <td>1</td>\n",
       "      <td>0</td>\n",
       "      <td>3</td>\n",
       "      <td>Braund, Mr. Owen Harris</td>\n",
       "      <td>male</td>\n",
       "      <td>22.0</td>\n",
       "      <td>1</td>\n",
       "      <td>0</td>\n",
       "      <td>A/5 21171</td>\n",
       "      <td>7.2500</td>\n",
       "      <td>NaN</td>\n",
       "      <td>S</td>\n",
       "    </tr>\n",
       "    <tr>\n",
       "      <th>1</th>\n",
       "      <td>2</td>\n",
       "      <td>1</td>\n",
       "      <td>1</td>\n",
       "      <td>Cumings, Mrs. John Bradley (Florence Briggs Th...</td>\n",
       "      <td>female</td>\n",
       "      <td>38.0</td>\n",
       "      <td>1</td>\n",
       "      <td>0</td>\n",
       "      <td>PC 17599</td>\n",
       "      <td>71.2833</td>\n",
       "      <td>C85</td>\n",
       "      <td>C</td>\n",
       "    </tr>\n",
       "    <tr>\n",
       "      <th>2</th>\n",
       "      <td>3</td>\n",
       "      <td>1</td>\n",
       "      <td>3</td>\n",
       "      <td>Heikkinen, Miss. Laina</td>\n",
       "      <td>female</td>\n",
       "      <td>26.0</td>\n",
       "      <td>0</td>\n",
       "      <td>0</td>\n",
       "      <td>STON/O2. 3101282</td>\n",
       "      <td>7.9250</td>\n",
       "      <td>NaN</td>\n",
       "      <td>S</td>\n",
       "    </tr>\n",
       "    <tr>\n",
       "      <th>3</th>\n",
       "      <td>4</td>\n",
       "      <td>1</td>\n",
       "      <td>1</td>\n",
       "      <td>Futrelle, Mrs. Jacques Heath (Lily May Peel)</td>\n",
       "      <td>female</td>\n",
       "      <td>35.0</td>\n",
       "      <td>1</td>\n",
       "      <td>0</td>\n",
       "      <td>113803</td>\n",
       "      <td>53.1000</td>\n",
       "      <td>C123</td>\n",
       "      <td>S</td>\n",
       "    </tr>\n",
       "    <tr>\n",
       "      <th>4</th>\n",
       "      <td>5</td>\n",
       "      <td>0</td>\n",
       "      <td>3</td>\n",
       "      <td>Allen, Mr. William Henry</td>\n",
       "      <td>male</td>\n",
       "      <td>35.0</td>\n",
       "      <td>0</td>\n",
       "      <td>0</td>\n",
       "      <td>373450</td>\n",
       "      <td>8.0500</td>\n",
       "      <td>NaN</td>\n",
       "      <td>S</td>\n",
       "    </tr>\n",
       "  </tbody>\n",
       "</table>\n",
       "</div>"
      ],
      "text/plain": [
       "   PassengerId  Survived  Pclass  \\\n",
       "0            1         0       3   \n",
       "1            2         1       1   \n",
       "2            3         1       3   \n",
       "3            4         1       1   \n",
       "4            5         0       3   \n",
       "\n",
       "                                                Name     Sex   Age  SibSp  \\\n",
       "0                            Braund, Mr. Owen Harris    male  22.0      1   \n",
       "1  Cumings, Mrs. John Bradley (Florence Briggs Th...  female  38.0      1   \n",
       "2                             Heikkinen, Miss. Laina  female  26.0      0   \n",
       "3       Futrelle, Mrs. Jacques Heath (Lily May Peel)  female  35.0      1   \n",
       "4                           Allen, Mr. William Henry    male  35.0      0   \n",
       "\n",
       "   Parch            Ticket     Fare Cabin Embarked  \n",
       "0      0         A/5 21171   7.2500   NaN        S  \n",
       "1      0          PC 17599  71.2833   C85        C  \n",
       "2      0  STON/O2. 3101282   7.9250   NaN        S  \n",
       "3      0            113803  53.1000  C123        S  \n",
       "4      0            373450   8.0500   NaN        S  "
      ]
     },
     "execution_count": 2,
     "metadata": {},
     "output_type": "execute_result"
    }
   ],
   "source": [
    "# Read data \n",
    "train_df = pd.read_csv(\"/kaggle/input/titanic/train.csv\")\n",
    "test_df = pd.read_csv(\"/kaggle/input/titanic/test.csv\")\n",
    "train_df.head()"
   ]
  },
  {
   "cell_type": "code",
   "execution_count": 3,
   "metadata": {
    "execution": {
     "iopub.execute_input": "2021-02-01T14:03:17.938531Z",
     "iopub.status.busy": "2021-02-01T14:03:17.937531Z",
     "iopub.status.idle": "2021-02-01T14:03:17.957900Z",
     "shell.execute_reply": "2021-02-01T14:03:17.958642Z"
    },
    "papermill": {
     "duration": 0.04733,
     "end_time": "2021-02-01T14:03:17.958872",
     "exception": false,
     "start_time": "2021-02-01T14:03:17.911542",
     "status": "completed"
    },
    "tags": []
   },
   "outputs": [
    {
     "name": "stdout",
     "output_type": "stream",
     "text": [
      "Rows: 891, Cols: 12\n"
     ]
    }
   ],
   "source": [
    "# Describe data\n",
    "train_df.describe()\n",
    "# Get size \n",
    "print(f\"Rows: {train_df.shape[0]}, Cols: {train_df.shape[1]}\")"
   ]
  },
  {
   "cell_type": "code",
   "execution_count": 4,
   "metadata": {
    "execution": {
     "iopub.execute_input": "2021-02-01T14:03:18.003953Z",
     "iopub.status.busy": "2021-02-01T14:03:18.003182Z",
     "iopub.status.idle": "2021-02-01T14:03:18.008063Z",
     "shell.execute_reply": "2021-02-01T14:03:18.007363Z"
    },
    "papermill": {
     "duration": 0.030184,
     "end_time": "2021-02-01T14:03:18.008189",
     "exception": false,
     "start_time": "2021-02-01T14:03:17.978005",
     "status": "completed"
    },
    "tags": []
   },
   "outputs": [
    {
     "name": "stdout",
     "output_type": "stream",
     "text": [
      "PassengerId      0\n",
      "Survived         0\n",
      "Pclass           0\n",
      "Name             0\n",
      "Sex              0\n",
      "Age            177\n",
      "SibSp            0\n",
      "Parch            0\n",
      "Ticket           0\n",
      "Fare             0\n",
      "Cabin          687\n",
      "Embarked         2\n",
      "dtype: int64\n"
     ]
    }
   ],
   "source": [
    "# Check how many missing values in train dataset\n",
    "print(train_df.isnull().sum())"
   ]
  },
  {
   "cell_type": "code",
   "execution_count": 5,
   "metadata": {
    "_cell_guid": "79c7e3d0-c299-4dcb-8224-4455121ee9b0",
    "_uuid": "d629ff2d2480ee46fbb7e2d37f6b5fab8052498a",
    "execution": {
     "iopub.execute_input": "2021-02-01T14:03:18.053331Z",
     "iopub.status.busy": "2021-02-01T14:03:18.051937Z",
     "iopub.status.idle": "2021-02-01T14:03:18.057870Z",
     "shell.execute_reply": "2021-02-01T14:03:18.058447Z"
    },
    "papermill": {
     "duration": 0.031191,
     "end_time": "2021-02-01T14:03:18.058605",
     "exception": false,
     "start_time": "2021-02-01T14:03:18.027414",
     "status": "completed"
    },
    "tags": []
   },
   "outputs": [
    {
     "name": "stdout",
     "output_type": "stream",
     "text": [
      "PassengerId      0\n",
      "Pclass           0\n",
      "Name             0\n",
      "Sex              0\n",
      "Age             86\n",
      "SibSp            0\n",
      "Parch            0\n",
      "Ticket           0\n",
      "Fare             1\n",
      "Cabin          327\n",
      "Embarked         0\n",
      "dtype: int64\n"
     ]
    }
   ],
   "source": [
    "# Check how many missing values in test dataset\n",
    "print(test_df.isnull().sum())"
   ]
  },
  {
   "cell_type": "markdown",
   "metadata": {
    "papermill": {
     "duration": 0.019189,
     "end_time": "2021-02-01T14:03:18.098026",
     "exception": false,
     "start_time": "2021-02-01T14:03:18.078837",
     "status": "completed"
    },
    "tags": []
   },
   "source": [
    "The sections below handle the missing values in the datasets and create a family variable with the sibling and parent variables. The cabin feature contains mostly missing values and was removed from the dataset. The median replaced the missing ages and fares in the test set. "
   ]
  },
  {
   "cell_type": "code",
   "execution_count": 6,
   "metadata": {
    "execution": {
     "iopub.execute_input": "2021-02-01T14:03:18.166115Z",
     "iopub.status.busy": "2021-02-01T14:03:18.151013Z",
     "iopub.status.idle": "2021-02-01T14:03:18.170872Z",
     "shell.execute_reply": "2021-02-01T14:03:18.170234Z"
    },
    "papermill": {
     "duration": 0.053513,
     "end_time": "2021-02-01T14:03:18.170996",
     "exception": false,
     "start_time": "2021-02-01T14:03:18.117483",
     "status": "completed"
    },
    "tags": []
   },
   "outputs": [
    {
     "data": {
      "text/html": [
       "<div>\n",
       "<style scoped>\n",
       "    .dataframe tbody tr th:only-of-type {\n",
       "        vertical-align: middle;\n",
       "    }\n",
       "\n",
       "    .dataframe tbody tr th {\n",
       "        vertical-align: top;\n",
       "    }\n",
       "\n",
       "    .dataframe thead th {\n",
       "        text-align: right;\n",
       "    }\n",
       "</style>\n",
       "<table border=\"1\" class=\"dataframe\">\n",
       "  <thead>\n",
       "    <tr style=\"text-align: right;\">\n",
       "      <th></th>\n",
       "      <th>PassengerId</th>\n",
       "      <th>Pclass</th>\n",
       "      <th>Name</th>\n",
       "      <th>Sex</th>\n",
       "      <th>Age</th>\n",
       "      <th>SibSp</th>\n",
       "      <th>Parch</th>\n",
       "      <th>Ticket</th>\n",
       "      <th>Fare</th>\n",
       "      <th>Embarked</th>\n",
       "    </tr>\n",
       "  </thead>\n",
       "  <tbody>\n",
       "    <tr>\n",
       "      <th>0</th>\n",
       "      <td>892</td>\n",
       "      <td>3</td>\n",
       "      <td>Kelly, Mr. James</td>\n",
       "      <td>male</td>\n",
       "      <td>34.5</td>\n",
       "      <td>0</td>\n",
       "      <td>0</td>\n",
       "      <td>330911</td>\n",
       "      <td>7.8292</td>\n",
       "      <td>Q</td>\n",
       "    </tr>\n",
       "    <tr>\n",
       "      <th>1</th>\n",
       "      <td>893</td>\n",
       "      <td>3</td>\n",
       "      <td>Wilkes, Mrs. James (Ellen Needs)</td>\n",
       "      <td>female</td>\n",
       "      <td>47.0</td>\n",
       "      <td>1</td>\n",
       "      <td>0</td>\n",
       "      <td>363272</td>\n",
       "      <td>7.0000</td>\n",
       "      <td>S</td>\n",
       "    </tr>\n",
       "    <tr>\n",
       "      <th>2</th>\n",
       "      <td>894</td>\n",
       "      <td>2</td>\n",
       "      <td>Myles, Mr. Thomas Francis</td>\n",
       "      <td>male</td>\n",
       "      <td>62.0</td>\n",
       "      <td>0</td>\n",
       "      <td>0</td>\n",
       "      <td>240276</td>\n",
       "      <td>9.6875</td>\n",
       "      <td>Q</td>\n",
       "    </tr>\n",
       "    <tr>\n",
       "      <th>3</th>\n",
       "      <td>895</td>\n",
       "      <td>3</td>\n",
       "      <td>Wirz, Mr. Albert</td>\n",
       "      <td>male</td>\n",
       "      <td>27.0</td>\n",
       "      <td>0</td>\n",
       "      <td>0</td>\n",
       "      <td>315154</td>\n",
       "      <td>8.6625</td>\n",
       "      <td>S</td>\n",
       "    </tr>\n",
       "    <tr>\n",
       "      <th>4</th>\n",
       "      <td>896</td>\n",
       "      <td>3</td>\n",
       "      <td>Hirvonen, Mrs. Alexander (Helga E Lindqvist)</td>\n",
       "      <td>female</td>\n",
       "      <td>22.0</td>\n",
       "      <td>1</td>\n",
       "      <td>1</td>\n",
       "      <td>3101298</td>\n",
       "      <td>12.2875</td>\n",
       "      <td>S</td>\n",
       "    </tr>\n",
       "    <tr>\n",
       "      <th>...</th>\n",
       "      <td>...</td>\n",
       "      <td>...</td>\n",
       "      <td>...</td>\n",
       "      <td>...</td>\n",
       "      <td>...</td>\n",
       "      <td>...</td>\n",
       "      <td>...</td>\n",
       "      <td>...</td>\n",
       "      <td>...</td>\n",
       "      <td>...</td>\n",
       "    </tr>\n",
       "    <tr>\n",
       "      <th>413</th>\n",
       "      <td>1305</td>\n",
       "      <td>3</td>\n",
       "      <td>Spector, Mr. Woolf</td>\n",
       "      <td>male</td>\n",
       "      <td>NaN</td>\n",
       "      <td>0</td>\n",
       "      <td>0</td>\n",
       "      <td>A.5. 3236</td>\n",
       "      <td>8.0500</td>\n",
       "      <td>S</td>\n",
       "    </tr>\n",
       "    <tr>\n",
       "      <th>414</th>\n",
       "      <td>1306</td>\n",
       "      <td>1</td>\n",
       "      <td>Oliva y Ocana, Dona. Fermina</td>\n",
       "      <td>female</td>\n",
       "      <td>39.0</td>\n",
       "      <td>0</td>\n",
       "      <td>0</td>\n",
       "      <td>PC 17758</td>\n",
       "      <td>108.9000</td>\n",
       "      <td>C</td>\n",
       "    </tr>\n",
       "    <tr>\n",
       "      <th>415</th>\n",
       "      <td>1307</td>\n",
       "      <td>3</td>\n",
       "      <td>Saether, Mr. Simon Sivertsen</td>\n",
       "      <td>male</td>\n",
       "      <td>38.5</td>\n",
       "      <td>0</td>\n",
       "      <td>0</td>\n",
       "      <td>SOTON/O.Q. 3101262</td>\n",
       "      <td>7.2500</td>\n",
       "      <td>S</td>\n",
       "    </tr>\n",
       "    <tr>\n",
       "      <th>416</th>\n",
       "      <td>1308</td>\n",
       "      <td>3</td>\n",
       "      <td>Ware, Mr. Frederick</td>\n",
       "      <td>male</td>\n",
       "      <td>NaN</td>\n",
       "      <td>0</td>\n",
       "      <td>0</td>\n",
       "      <td>359309</td>\n",
       "      <td>8.0500</td>\n",
       "      <td>S</td>\n",
       "    </tr>\n",
       "    <tr>\n",
       "      <th>417</th>\n",
       "      <td>1309</td>\n",
       "      <td>3</td>\n",
       "      <td>Peter, Master. Michael J</td>\n",
       "      <td>male</td>\n",
       "      <td>NaN</td>\n",
       "      <td>1</td>\n",
       "      <td>1</td>\n",
       "      <td>2668</td>\n",
       "      <td>22.3583</td>\n",
       "      <td>C</td>\n",
       "    </tr>\n",
       "  </tbody>\n",
       "</table>\n",
       "<p>418 rows × 10 columns</p>\n",
       "</div>"
      ],
      "text/plain": [
       "     PassengerId  Pclass                                          Name  \\\n",
       "0            892       3                              Kelly, Mr. James   \n",
       "1            893       3              Wilkes, Mrs. James (Ellen Needs)   \n",
       "2            894       2                     Myles, Mr. Thomas Francis   \n",
       "3            895       3                              Wirz, Mr. Albert   \n",
       "4            896       3  Hirvonen, Mrs. Alexander (Helga E Lindqvist)   \n",
       "..           ...     ...                                           ...   \n",
       "413         1305       3                            Spector, Mr. Woolf   \n",
       "414         1306       1                  Oliva y Ocana, Dona. Fermina   \n",
       "415         1307       3                  Saether, Mr. Simon Sivertsen   \n",
       "416         1308       3                           Ware, Mr. Frederick   \n",
       "417         1309       3                      Peter, Master. Michael J   \n",
       "\n",
       "        Sex   Age  SibSp  Parch              Ticket      Fare Embarked  \n",
       "0      male  34.5      0      0              330911    7.8292        Q  \n",
       "1    female  47.0      1      0              363272    7.0000        S  \n",
       "2      male  62.0      0      0              240276    9.6875        Q  \n",
       "3      male  27.0      0      0              315154    8.6625        S  \n",
       "4    female  22.0      1      1             3101298   12.2875        S  \n",
       "..      ...   ...    ...    ...                 ...       ...      ...  \n",
       "413    male   NaN      0      0           A.5. 3236    8.0500        S  \n",
       "414  female  39.0      0      0            PC 17758  108.9000        C  \n",
       "415    male  38.5      0      0  SOTON/O.Q. 3101262    7.2500        S  \n",
       "416    male   NaN      0      0              359309    8.0500        S  \n",
       "417    male   NaN      1      1                2668   22.3583        C  \n",
       "\n",
       "[418 rows x 10 columns]"
      ]
     },
     "execution_count": 6,
     "metadata": {},
     "output_type": "execute_result"
    }
   ],
   "source": [
    "# Drop cabin since it contains mostly missing values\n",
    "train_df.drop(\"Cabin\", 1)\n",
    "test_df.drop(\"Cabin\", 1)"
   ]
  },
  {
   "cell_type": "code",
   "execution_count": 7,
   "metadata": {
    "execution": {
     "iopub.execute_input": "2021-02-01T14:03:18.227702Z",
     "iopub.status.busy": "2021-02-01T14:03:18.223314Z",
     "iopub.status.idle": "2021-02-01T14:03:18.244563Z",
     "shell.execute_reply": "2021-02-01T14:03:18.243899Z"
    },
    "papermill": {
     "duration": 0.053046,
     "end_time": "2021-02-01T14:03:18.244674",
     "exception": false,
     "start_time": "2021-02-01T14:03:18.191628",
     "status": "completed"
    },
    "tags": []
   },
   "outputs": [
    {
     "data": {
      "text/html": [
       "<div>\n",
       "<style scoped>\n",
       "    .dataframe tbody tr th:only-of-type {\n",
       "        vertical-align: middle;\n",
       "    }\n",
       "\n",
       "    .dataframe tbody tr th {\n",
       "        vertical-align: top;\n",
       "    }\n",
       "\n",
       "    .dataframe thead th {\n",
       "        text-align: right;\n",
       "    }\n",
       "</style>\n",
       "<table border=\"1\" class=\"dataframe\">\n",
       "  <thead>\n",
       "    <tr style=\"text-align: right;\">\n",
       "      <th></th>\n",
       "      <th>PassengerId</th>\n",
       "      <th>Survived</th>\n",
       "      <th>Pclass</th>\n",
       "      <th>Name</th>\n",
       "      <th>Sex</th>\n",
       "      <th>Age</th>\n",
       "      <th>SibSp</th>\n",
       "      <th>Parch</th>\n",
       "      <th>Ticket</th>\n",
       "      <th>Fare</th>\n",
       "      <th>Cabin</th>\n",
       "      <th>Embarked</th>\n",
       "      <th>Family</th>\n",
       "    </tr>\n",
       "  </thead>\n",
       "  <tbody>\n",
       "    <tr>\n",
       "      <th>0</th>\n",
       "      <td>1</td>\n",
       "      <td>0</td>\n",
       "      <td>3</td>\n",
       "      <td>Braund, Mr. Owen Harris</td>\n",
       "      <td>male</td>\n",
       "      <td>22.0</td>\n",
       "      <td>1</td>\n",
       "      <td>0</td>\n",
       "      <td>A/5 21171</td>\n",
       "      <td>7.2500</td>\n",
       "      <td>NaN</td>\n",
       "      <td>S</td>\n",
       "      <td>1</td>\n",
       "    </tr>\n",
       "    <tr>\n",
       "      <th>1</th>\n",
       "      <td>2</td>\n",
       "      <td>1</td>\n",
       "      <td>1</td>\n",
       "      <td>Cumings, Mrs. John Bradley (Florence Briggs Th...</td>\n",
       "      <td>female</td>\n",
       "      <td>38.0</td>\n",
       "      <td>1</td>\n",
       "      <td>0</td>\n",
       "      <td>PC 17599</td>\n",
       "      <td>71.2833</td>\n",
       "      <td>C85</td>\n",
       "      <td>C</td>\n",
       "      <td>1</td>\n",
       "    </tr>\n",
       "    <tr>\n",
       "      <th>2</th>\n",
       "      <td>3</td>\n",
       "      <td>1</td>\n",
       "      <td>3</td>\n",
       "      <td>Heikkinen, Miss. Laina</td>\n",
       "      <td>female</td>\n",
       "      <td>26.0</td>\n",
       "      <td>0</td>\n",
       "      <td>0</td>\n",
       "      <td>STON/O2. 3101282</td>\n",
       "      <td>7.9250</td>\n",
       "      <td>NaN</td>\n",
       "      <td>S</td>\n",
       "      <td>0</td>\n",
       "    </tr>\n",
       "    <tr>\n",
       "      <th>3</th>\n",
       "      <td>4</td>\n",
       "      <td>1</td>\n",
       "      <td>1</td>\n",
       "      <td>Futrelle, Mrs. Jacques Heath (Lily May Peel)</td>\n",
       "      <td>female</td>\n",
       "      <td>35.0</td>\n",
       "      <td>1</td>\n",
       "      <td>0</td>\n",
       "      <td>113803</td>\n",
       "      <td>53.1000</td>\n",
       "      <td>C123</td>\n",
       "      <td>S</td>\n",
       "      <td>1</td>\n",
       "    </tr>\n",
       "    <tr>\n",
       "      <th>4</th>\n",
       "      <td>5</td>\n",
       "      <td>0</td>\n",
       "      <td>3</td>\n",
       "      <td>Allen, Mr. William Henry</td>\n",
       "      <td>male</td>\n",
       "      <td>35.0</td>\n",
       "      <td>0</td>\n",
       "      <td>0</td>\n",
       "      <td>373450</td>\n",
       "      <td>8.0500</td>\n",
       "      <td>NaN</td>\n",
       "      <td>S</td>\n",
       "      <td>0</td>\n",
       "    </tr>\n",
       "  </tbody>\n",
       "</table>\n",
       "</div>"
      ],
      "text/plain": [
       "   PassengerId  Survived  Pclass  \\\n",
       "0            1         0       3   \n",
       "1            2         1       1   \n",
       "2            3         1       3   \n",
       "3            4         1       1   \n",
       "4            5         0       3   \n",
       "\n",
       "                                                Name     Sex   Age  SibSp  \\\n",
       "0                            Braund, Mr. Owen Harris    male  22.0      1   \n",
       "1  Cumings, Mrs. John Bradley (Florence Briggs Th...  female  38.0      1   \n",
       "2                             Heikkinen, Miss. Laina  female  26.0      0   \n",
       "3       Futrelle, Mrs. Jacques Heath (Lily May Peel)  female  35.0      1   \n",
       "4                           Allen, Mr. William Henry    male  35.0      0   \n",
       "\n",
       "   Parch            Ticket     Fare Cabin Embarked  Family  \n",
       "0      0         A/5 21171   7.2500   NaN        S       1  \n",
       "1      0          PC 17599  71.2833   C85        C       1  \n",
       "2      0  STON/O2. 3101282   7.9250   NaN        S       0  \n",
       "3      0            113803  53.1000  C123        S       1  \n",
       "4      0            373450   8.0500   NaN        S       0  "
      ]
     },
     "execution_count": 7,
     "metadata": {},
     "output_type": "execute_result"
    }
   ],
   "source": [
    "# Replace missing ages with mean age\n",
    "train_df['Age']= train_df['Age'].fillna(train_df['Age'].median())\n",
    "test_df['Age'] = test_df['Age'].fillna(test_df['Age'].median())\n",
    "\n",
    "# Create variable for number of family members\n",
    "train_df['Family'] = train_df.loc[:,['SibSp','Parch']].sum(axis=1) \n",
    "test_df['Family'] = test_df.loc[:,['SibSp','Parch']].sum(axis=1)\n",
    "\n",
    "# Replace missing fare in test set with mean fare\n",
    "test_df['Fare'] = test_df['Fare'].fillna(test_df['Fare'].median())\n",
    "train_df.head()"
   ]
  },
  {
   "cell_type": "code",
   "execution_count": 8,
   "metadata": {
    "execution": {
     "iopub.execute_input": "2021-02-01T14:03:18.292689Z",
     "iopub.status.busy": "2021-02-01T14:03:18.292074Z",
     "iopub.status.idle": "2021-02-01T14:03:18.525954Z",
     "shell.execute_reply": "2021-02-01T14:03:18.525376Z"
    },
    "papermill": {
     "duration": 0.260134,
     "end_time": "2021-02-01T14:03:18.526064",
     "exception": false,
     "start_time": "2021-02-01T14:03:18.265930",
     "status": "completed"
    },
    "tags": []
   },
   "outputs": [
    {
     "data": {
      "text/plain": [
       "Text(0, 0.5, 'Frequency')"
      ]
     },
     "execution_count": 8,
     "metadata": {},
     "output_type": "execute_result"
    },
    {
     "data": {
      "image/png": "[encoded data removed]",
      "text/plain": [
       "<Figure size 432x288 with 1 Axes>"
      ]
     },
     "metadata": {
      "needs_background": "light"
     },
     "output_type": "display_data"
    }
   ],
   "source": [
    "# Show histogram of Age\n",
    "plt.hist(train_df['Age'], 10)\n",
    "plt.title('Histogram of Age')\n",
    "plt.xlabel('Age')\n",
    "plt.ylabel('Frequency')"
   ]
  },
  {
   "cell_type": "code",
   "execution_count": 9,
   "metadata": {
    "execution": {
     "iopub.execute_input": "2021-02-01T14:03:18.587378Z",
     "iopub.status.busy": "2021-02-01T14:03:18.581984Z",
     "iopub.status.idle": "2021-02-01T14:03:18.749694Z",
     "shell.execute_reply": "2021-02-01T14:03:18.748987Z"
    },
    "papermill": {
     "duration": 0.201386,
     "end_time": "2021-02-01T14:03:18.749820",
     "exception": false,
     "start_time": "2021-02-01T14:03:18.548434",
     "status": "completed"
    },
    "tags": []
   },
   "outputs": [
    {
     "data": {
      "text/plain": [
       "Text(0, 0.5, 'Frequency')"
      ]
     },
     "execution_count": 9,
     "metadata": {},
     "output_type": "execute_result"
    },
    {
     "data": {
      "image/png": "[encoded data removed]",
      "text/plain": [
       "<Figure size 432x288 with 1 Axes>"
      ]
     },
     "metadata": {
      "needs_background": "light"
     },
     "output_type": "display_data"
    }
   ],
   "source": [
    "# Show histogram of Fare\n",
    "plt.hist(train_df['Fare'], 10)\n",
    "plt.title('Histogram of Fare')\n",
    "plt.xlabel('Fare')\n",
    "plt.ylabel('Frequency')"
   ]
  },
  {
   "cell_type": "code",
   "execution_count": 10,
   "metadata": {
    "execution": {
     "iopub.execute_input": "2021-02-01T14:03:18.813035Z",
     "iopub.status.busy": "2021-02-01T14:03:18.808446Z",
     "iopub.status.idle": "2021-02-01T14:03:18.817398Z",
     "shell.execute_reply": "2021-02-01T14:03:18.817940Z"
    },
    "papermill": {
     "duration": 0.045019,
     "end_time": "2021-02-01T14:03:18.818098",
     "exception": false,
     "start_time": "2021-02-01T14:03:18.773079",
     "status": "completed"
    },
    "tags": []
   },
   "outputs": [
    {
     "name": "stdout",
     "output_type": "stream",
     "text": [
      "74.20% of women survived\n",
      "18.89% of men survived\n"
     ]
    }
   ],
   "source": [
    "# Calculate the percent of women that survived\n",
    "women = train_df.loc[train_df.Sex == 'female']['Survived']\n",
    "rate_women = sum(women)/len(women)\n",
    "\n",
    "# Calculate the percent of men that survived\n",
    "men = train_df.loc[train_df.Sex == 'male']['Survived']\n",
    "rate_men = sum(men)/len(men)\n",
    "\n",
    "print(f\"{rate_women *100:.2f}% of women survived\")\n",
    "print(f\"{rate_men * 100:.2f}% of men survived\")"
   ]
  },
  {
   "cell_type": "code",
   "execution_count": 11,
   "metadata": {
    "execution": {
     "iopub.execute_input": "2021-02-01T14:03:18.871839Z",
     "iopub.status.busy": "2021-02-01T14:03:18.871141Z",
     "iopub.status.idle": "2021-02-01T14:03:18.895994Z",
     "shell.execute_reply": "2021-02-01T14:03:18.896920Z"
    },
    "papermill": {
     "duration": 0.05548,
     "end_time": "2021-02-01T14:03:18.897204",
     "exception": false,
     "start_time": "2021-02-01T14:03:18.841724",
     "status": "completed"
    },
    "tags": []
   },
   "outputs": [
    {
     "name": "stdout",
     "output_type": "stream",
     "text": [
      "36.67% of passangers over 40 survived\n"
     ]
    }
   ],
   "source": [
    "# Show percentage of passangers who survived over 40\n",
    "over_40 = train_df.loc[train_df.Age > 40]['Survived']\n",
    "over_40_calc = sum(over_40)/len(over_40)\n",
    "print(f\"{over_40_calc * 100:.2f}% of passangers over 40 survived\")"
   ]
  },
  {
   "cell_type": "code",
   "execution_count": 12,
   "metadata": {
    "execution": {
     "iopub.execute_input": "2021-02-01T14:03:18.955440Z",
     "iopub.status.busy": "2021-02-01T14:03:18.954700Z",
     "iopub.status.idle": "2021-02-01T14:03:18.958405Z",
     "shell.execute_reply": "2021-02-01T14:03:18.957585Z"
    },
    "papermill": {
     "duration": 0.035958,
     "end_time": "2021-02-01T14:03:18.958554",
     "exception": false,
     "start_time": "2021-02-01T14:03:18.922596",
     "status": "completed"
    },
    "tags": []
   },
   "outputs": [
    {
     "name": "stdout",
     "output_type": "stream",
     "text": [
      "31.76% of passangers who paid lower fares survived\n"
     ]
    }
   ],
   "source": [
    "# Show percentage of passengers with fares lower than the mean that survived\n",
    "lower_fares = train_df.loc[train_df.Fare < train_df['Fare'].mean()]['Survived']\n",
    "lower_fares_calc = sum(lower_fares)/len(lower_fares)\n",
    "print(f\"{lower_fares_calc * 100:.2f}% of passangers who paid lower fares survived\")"
   ]
  },
  {
   "cell_type": "markdown",
   "metadata": {
    "papermill": {
     "duration": 0.024464,
     "end_time": "2021-02-01T14:03:19.009062",
     "exception": false,
     "start_time": "2021-02-01T14:03:18.984598",
     "status": "completed"
    },
    "tags": []
   },
   "source": [
    "The sections below bin the age, family and fare variables. "
   ]
  },
  {
   "cell_type": "code",
   "execution_count": 13,
   "metadata": {
    "execution": {
     "iopub.execute_input": "2021-02-01T14:03:19.074755Z",
     "iopub.status.busy": "2021-02-01T14:03:19.074052Z",
     "iopub.status.idle": "2021-02-01T14:03:19.079031Z",
     "shell.execute_reply": "2021-02-01T14:03:19.078436Z"
    },
    "papermill": {
     "duration": 0.044777,
     "end_time": "2021-02-01T14:03:19.079143",
     "exception": false,
     "start_time": "2021-02-01T14:03:19.034366",
     "status": "completed"
    },
    "tags": []
   },
   "outputs": [
    {
     "name": "stdout",
     "output_type": "stream",
     "text": [
      "The average fare is 14.45\n",
      "The max fare is 512.33\n",
      "The average family size is 1\n",
      "The max family size is 11\n"
     ]
    }
   ],
   "source": [
    "# Bin the age variable \n",
    "train_df['ageBinned'] = pd.cut(train_df['Age'], bins=[0,18,35,65,85], labels=[\"Child\", \"Young Adult\", \"Adult\", \"Elderly\"])\n",
    "test_df['ageBinned'] = pd.cut(test_df['Age'], bins=[0,18,35,65,85], labels=[\"Child\", \"Young Adult\", \"Adult\", \"Elderly\"])\n",
    "\n",
    "# Show mean and max fare\n",
    "print(f\"The average fare is {train_df['Fare'].median():.2f}\")\n",
    "print(f\"The max fare is {train_df['Fare'].max():.2f}\")\n",
    "\n",
    "# Show mean and max family size\n",
    "print(f\"The average family size is {train_df['Family'].median() + 1:.0f}\")\n",
    "print(f\"The max family size is {train_df['Family'].max() + 1}\")"
   ]
  },
  {
   "cell_type": "code",
   "execution_count": 14,
   "metadata": {
    "execution": {
     "iopub.execute_input": "2021-02-01T14:03:19.142844Z",
     "iopub.status.busy": "2021-02-01T14:03:19.140304Z",
     "iopub.status.idle": "2021-02-01T14:03:19.173679Z",
     "shell.execute_reply": "2021-02-01T14:03:19.173114Z"
    },
    "papermill": {
     "duration": 0.068728,
     "end_time": "2021-02-01T14:03:19.173816",
     "exception": false,
     "start_time": "2021-02-01T14:03:19.105088",
     "status": "completed"
    },
    "tags": []
   },
   "outputs": [
    {
     "data": {
      "text/html": [
       "<div>\n",
       "<style scoped>\n",
       "    .dataframe tbody tr th:only-of-type {\n",
       "        vertical-align: middle;\n",
       "    }\n",
       "\n",
       "    .dataframe tbody tr th {\n",
       "        vertical-align: top;\n",
       "    }\n",
       "\n",
       "    .dataframe thead th {\n",
       "        text-align: right;\n",
       "    }\n",
       "</style>\n",
       "<table border=\"1\" class=\"dataframe\">\n",
       "  <thead>\n",
       "    <tr style=\"text-align: right;\">\n",
       "      <th></th>\n",
       "      <th>PassengerId</th>\n",
       "      <th>Survived</th>\n",
       "      <th>Pclass</th>\n",
       "      <th>Name</th>\n",
       "      <th>Sex</th>\n",
       "      <th>Age</th>\n",
       "      <th>SibSp</th>\n",
       "      <th>Parch</th>\n",
       "      <th>Ticket</th>\n",
       "      <th>Fare</th>\n",
       "      <th>Cabin</th>\n",
       "      <th>Embarked</th>\n",
       "      <th>Family</th>\n",
       "      <th>ageBinned</th>\n",
       "      <th>fareBinned</th>\n",
       "      <th>familyBinned</th>\n",
       "    </tr>\n",
       "  </thead>\n",
       "  <tbody>\n",
       "    <tr>\n",
       "      <th>0</th>\n",
       "      <td>1</td>\n",
       "      <td>0</td>\n",
       "      <td>3</td>\n",
       "      <td>Braund, Mr. Owen Harris</td>\n",
       "      <td>male</td>\n",
       "      <td>22.0</td>\n",
       "      <td>1</td>\n",
       "      <td>0</td>\n",
       "      <td>A/5 21171</td>\n",
       "      <td>7.2500</td>\n",
       "      <td>NaN</td>\n",
       "      <td>S</td>\n",
       "      <td>1</td>\n",
       "      <td>Young Adult</td>\n",
       "      <td>Low</td>\n",
       "      <td>None</td>\n",
       "    </tr>\n",
       "    <tr>\n",
       "      <th>1</th>\n",
       "      <td>2</td>\n",
       "      <td>1</td>\n",
       "      <td>1</td>\n",
       "      <td>Cumings, Mrs. John Bradley (Florence Briggs Th...</td>\n",
       "      <td>female</td>\n",
       "      <td>38.0</td>\n",
       "      <td>1</td>\n",
       "      <td>0</td>\n",
       "      <td>PC 17599</td>\n",
       "      <td>71.2833</td>\n",
       "      <td>C85</td>\n",
       "      <td>C</td>\n",
       "      <td>1</td>\n",
       "      <td>Adult</td>\n",
       "      <td>High</td>\n",
       "      <td>None</td>\n",
       "    </tr>\n",
       "    <tr>\n",
       "      <th>2</th>\n",
       "      <td>3</td>\n",
       "      <td>1</td>\n",
       "      <td>3</td>\n",
       "      <td>Heikkinen, Miss. Laina</td>\n",
       "      <td>female</td>\n",
       "      <td>26.0</td>\n",
       "      <td>0</td>\n",
       "      <td>0</td>\n",
       "      <td>STON/O2. 3101282</td>\n",
       "      <td>7.9250</td>\n",
       "      <td>NaN</td>\n",
       "      <td>S</td>\n",
       "      <td>0</td>\n",
       "      <td>Young Adult</td>\n",
       "      <td>Low</td>\n",
       "      <td>NaN</td>\n",
       "    </tr>\n",
       "    <tr>\n",
       "      <th>3</th>\n",
       "      <td>4</td>\n",
       "      <td>1</td>\n",
       "      <td>1</td>\n",
       "      <td>Futrelle, Mrs. Jacques Heath (Lily May Peel)</td>\n",
       "      <td>female</td>\n",
       "      <td>35.0</td>\n",
       "      <td>1</td>\n",
       "      <td>0</td>\n",
       "      <td>113803</td>\n",
       "      <td>53.1000</td>\n",
       "      <td>C123</td>\n",
       "      <td>S</td>\n",
       "      <td>1</td>\n",
       "      <td>Young Adult</td>\n",
       "      <td>High</td>\n",
       "      <td>None</td>\n",
       "    </tr>\n",
       "    <tr>\n",
       "      <th>4</th>\n",
       "      <td>5</td>\n",
       "      <td>0</td>\n",
       "      <td>3</td>\n",
       "      <td>Allen, Mr. William Henry</td>\n",
       "      <td>male</td>\n",
       "      <td>35.0</td>\n",
       "      <td>0</td>\n",
       "      <td>0</td>\n",
       "      <td>373450</td>\n",
       "      <td>8.0500</td>\n",
       "      <td>NaN</td>\n",
       "      <td>S</td>\n",
       "      <td>0</td>\n",
       "      <td>Young Adult</td>\n",
       "      <td>Low</td>\n",
       "      <td>NaN</td>\n",
       "    </tr>\n",
       "  </tbody>\n",
       "</table>\n",
       "</div>"
      ],
      "text/plain": [
       "   PassengerId  Survived  Pclass  \\\n",
       "0            1         0       3   \n",
       "1            2         1       1   \n",
       "2            3         1       3   \n",
       "3            4         1       1   \n",
       "4            5         0       3   \n",
       "\n",
       "                                                Name     Sex   Age  SibSp  \\\n",
       "0                            Braund, Mr. Owen Harris    male  22.0      1   \n",
       "1  Cumings, Mrs. John Bradley (Florence Briggs Th...  female  38.0      1   \n",
       "2                             Heikkinen, Miss. Laina  female  26.0      0   \n",
       "3       Futrelle, Mrs. Jacques Heath (Lily May Peel)  female  35.0      1   \n",
       "4                           Allen, Mr. William Henry    male  35.0      0   \n",
       "\n",
       "   Parch            Ticket     Fare Cabin Embarked  Family    ageBinned  \\\n",
       "0      0         A/5 21171   7.2500   NaN        S       1  Young Adult   \n",
       "1      0          PC 17599  71.2833   C85        C       1        Adult   \n",
       "2      0  STON/O2. 3101282   7.9250   NaN        S       0  Young Adult   \n",
       "3      0            113803  53.1000  C123        S       1  Young Adult   \n",
       "4      0            373450   8.0500   NaN        S       0  Young Adult   \n",
       "\n",
       "  fareBinned familyBinned  \n",
       "0        Low         None  \n",
       "1       High         None  \n",
       "2        Low          NaN  \n",
       "3       High         None  \n",
       "4        Low          NaN  "
      ]
     },
     "execution_count": 14,
     "metadata": {},
     "output_type": "execute_result"
    }
   ],
   "source": [
    "# Bin the fare variable \n",
    "train_df['fareBinned'] = pd.cut(train_df['Fare'], bins=[0,10,25,513], labels=[\"Low\", \"Average\", \"High\"])\n",
    "test_df['fareBinned'] = pd.cut(test_df['Fare'], bins=[0,10,25,513], labels=[\"Low\", \"Low/Average\", \"High\"])\n",
    "\n",
    "# Bin the family variable \n",
    "train_df['familyBinned'] = pd.cut(train_df['Family'], bins=[0,1,2,3], labels=[\"None\", \"Small family\", \"Large family\"])\n",
    "test_df['familyBinned'] = pd.cut(test_df['Family'], bins=[0,1,2,3], labels=[\"None\", \"Small family\", \"Large family\"])\n",
    "\n",
    "train_df.head()"
   ]
  },
  {
   "cell_type": "code",
   "execution_count": 15,
   "metadata": {
    "execution": {
     "iopub.execute_input": "2021-02-01T14:03:19.236727Z",
     "iopub.status.busy": "2021-02-01T14:03:19.235462Z",
     "iopub.status.idle": "2021-02-01T14:03:19.262918Z",
     "shell.execute_reply": "2021-02-01T14:03:19.262338Z"
    },
    "papermill": {
     "duration": 0.06282,
     "end_time": "2021-02-01T14:03:19.263039",
     "exception": false,
     "start_time": "2021-02-01T14:03:19.200219",
     "status": "completed"
    },
    "tags": []
   },
   "outputs": [
    {
     "name": "stdout",
     "output_type": "stream",
     "text": [
      "Training Rows: 757, Training Cols: 16\n",
      "Validation Rows: 134, Validation Cols: 15\n"
     ]
    },
    {
     "data": {
      "text/html": [
       "<div>\n",
       "<style scoped>\n",
       "    .dataframe tbody tr th:only-of-type {\n",
       "        vertical-align: middle;\n",
       "    }\n",
       "\n",
       "    .dataframe tbody tr th {\n",
       "        vertical-align: top;\n",
       "    }\n",
       "\n",
       "    .dataframe thead th {\n",
       "        text-align: right;\n",
       "    }\n",
       "</style>\n",
       "<table border=\"1\" class=\"dataframe\">\n",
       "  <thead>\n",
       "    <tr style=\"text-align: right;\">\n",
       "      <th></th>\n",
       "      <th>PassengerId</th>\n",
       "      <th>Pclass</th>\n",
       "      <th>Name</th>\n",
       "      <th>Sex</th>\n",
       "      <th>Age</th>\n",
       "      <th>SibSp</th>\n",
       "      <th>Parch</th>\n",
       "      <th>Ticket</th>\n",
       "      <th>Fare</th>\n",
       "      <th>Cabin</th>\n",
       "      <th>Embarked</th>\n",
       "      <th>Family</th>\n",
       "      <th>ageBinned</th>\n",
       "      <th>fareBinned</th>\n",
       "      <th>familyBinned</th>\n",
       "    </tr>\n",
       "  </thead>\n",
       "  <tbody>\n",
       "    <tr>\n",
       "      <th>9</th>\n",
       "      <td>10</td>\n",
       "      <td>2</td>\n",
       "      <td>Nasser, Mrs. Nicholas (Adele Achem)</td>\n",
       "      <td>female</td>\n",
       "      <td>14.0</td>\n",
       "      <td>1</td>\n",
       "      <td>0</td>\n",
       "      <td>237736</td>\n",
       "      <td>30.0708</td>\n",
       "      <td>NaN</td>\n",
       "      <td>C</td>\n",
       "      <td>1</td>\n",
       "      <td>Child</td>\n",
       "      <td>High</td>\n",
       "      <td>None</td>\n",
       "    </tr>\n",
       "    <tr>\n",
       "      <th>23</th>\n",
       "      <td>24</td>\n",
       "      <td>1</td>\n",
       "      <td>Sloper, Mr. William Thompson</td>\n",
       "      <td>male</td>\n",
       "      <td>28.0</td>\n",
       "      <td>0</td>\n",
       "      <td>0</td>\n",
       "      <td>113788</td>\n",
       "      <td>35.5000</td>\n",
       "      <td>A6</td>\n",
       "      <td>S</td>\n",
       "      <td>0</td>\n",
       "      <td>Young Adult</td>\n",
       "      <td>High</td>\n",
       "      <td>NaN</td>\n",
       "    </tr>\n",
       "    <tr>\n",
       "      <th>28</th>\n",
       "      <td>29</td>\n",
       "      <td>3</td>\n",
       "      <td>O'Dwyer, Miss. Ellen \"Nellie\"</td>\n",
       "      <td>female</td>\n",
       "      <td>28.0</td>\n",
       "      <td>0</td>\n",
       "      <td>0</td>\n",
       "      <td>330959</td>\n",
       "      <td>7.8792</td>\n",
       "      <td>NaN</td>\n",
       "      <td>Q</td>\n",
       "      <td>0</td>\n",
       "      <td>Young Adult</td>\n",
       "      <td>Low</td>\n",
       "      <td>NaN</td>\n",
       "    </tr>\n",
       "    <tr>\n",
       "      <th>42</th>\n",
       "      <td>43</td>\n",
       "      <td>3</td>\n",
       "      <td>Kraeff, Mr. Theodor</td>\n",
       "      <td>male</td>\n",
       "      <td>28.0</td>\n",
       "      <td>0</td>\n",
       "      <td>0</td>\n",
       "      <td>349253</td>\n",
       "      <td>7.8958</td>\n",
       "      <td>NaN</td>\n",
       "      <td>C</td>\n",
       "      <td>0</td>\n",
       "      <td>Young Adult</td>\n",
       "      <td>Low</td>\n",
       "      <td>NaN</td>\n",
       "    </tr>\n",
       "    <tr>\n",
       "      <th>47</th>\n",
       "      <td>48</td>\n",
       "      <td>3</td>\n",
       "      <td>O'Driscoll, Miss. Bridget</td>\n",
       "      <td>female</td>\n",
       "      <td>28.0</td>\n",
       "      <td>0</td>\n",
       "      <td>0</td>\n",
       "      <td>14311</td>\n",
       "      <td>7.7500</td>\n",
       "      <td>NaN</td>\n",
       "      <td>Q</td>\n",
       "      <td>0</td>\n",
       "      <td>Young Adult</td>\n",
       "      <td>Low</td>\n",
       "      <td>NaN</td>\n",
       "    </tr>\n",
       "  </tbody>\n",
       "</table>\n",
       "</div>"
      ],
      "text/plain": [
       "    PassengerId  Pclass                                 Name     Sex   Age  \\\n",
       "9            10       2  Nasser, Mrs. Nicholas (Adele Achem)  female  14.0   \n",
       "23           24       1         Sloper, Mr. William Thompson    male  28.0   \n",
       "28           29       3        O'Dwyer, Miss. Ellen \"Nellie\"  female  28.0   \n",
       "42           43       3                  Kraeff, Mr. Theodor    male  28.0   \n",
       "47           48       3            O'Driscoll, Miss. Bridget  female  28.0   \n",
       "\n",
       "    SibSp  Parch  Ticket     Fare Cabin Embarked  Family    ageBinned  \\\n",
       "9       1      0  237736  30.0708   NaN        C       1        Child   \n",
       "23      0      0  113788  35.5000    A6        S       0  Young Adult   \n",
       "28      0      0  330959   7.8792   NaN        Q       0  Young Adult   \n",
       "42      0      0  349253   7.8958   NaN        C       0  Young Adult   \n",
       "47      0      0   14311   7.7500   NaN        Q       0  Young Adult   \n",
       "\n",
       "   fareBinned familyBinned  \n",
       "9        High         None  \n",
       "23       High          NaN  \n",
       "28        Low          NaN  \n",
       "42        Low          NaN  \n",
       "47        Low          NaN  "
      ]
     },
     "execution_count": 15,
     "metadata": {},
     "output_type": "execute_result"
    }
   ],
   "source": [
    "# Separate training and validation sets\n",
    "train_data = train_df.sample(frac=0.85, random_state=0)\n",
    "val_data = train_df.drop(train_data.index)\n",
    "\n",
    "# Drop labels from validation set\n",
    "val_labels = val_data[\"Survived\"]\n",
    "val_data = val_data.drop(\"Survived\", 1)\n",
    "\n",
    "# Print size of new training and validation sets\n",
    "print(f\"Training Rows: {train_data.shape[0]}, Training Cols: {train_data.shape[1]}\")\n",
    "print(f\"Validation Rows: {val_data.shape[0]}, Validation Cols: {val_data.shape[1]}\")\n",
    "\n",
    "# Verify correct column dropped\n",
    "val_data.head()"
   ]
  },
  {
   "cell_type": "markdown",
   "metadata": {
    "papermill": {
     "duration": 0.026943,
     "end_time": "2021-02-01T14:03:19.317692",
     "exception": false,
     "start_time": "2021-02-01T14:03:19.290749",
     "status": "completed"
    },
    "tags": []
   },
   "source": [
    "The features used in these models are gender, Pclass,fare, family, and age. The get_dummies command converts the categorical variables to numeric (dummy) variables. "
   ]
  },
  {
   "cell_type": "code",
   "execution_count": 16,
   "metadata": {
    "execution": {
     "iopub.execute_input": "2021-02-01T14:03:19.394765Z",
     "iopub.status.busy": "2021-02-01T14:03:19.394113Z",
     "iopub.status.idle": "2021-02-01T14:03:19.853467Z",
     "shell.execute_reply": "2021-02-01T14:03:19.852789Z"
    },
    "papermill": {
     "duration": 0.508501,
     "end_time": "2021-02-01T14:03:19.853588",
     "exception": false,
     "start_time": "2021-02-01T14:03:19.345087",
     "status": "completed"
    },
    "tags": []
   },
   "outputs": [
    {
     "data": {
      "text/plain": [
       "<sklearn.metrics._plot.confusion_matrix.ConfusionMatrixDisplay at 0x7f5d4b706e50>"
      ]
     },
     "execution_count": 16,
     "metadata": {},
     "output_type": "execute_result"
    },
    {
     "data": {
      "image/png": "[encoded data removed]",
      "text/plain": [
       "<Figure size 432x288 with 2 Axes>"
      ]
     },
     "metadata": {
      "needs_background": "light"
     },
     "output_type": "display_data"
    }
   ],
   "source": [
    "# Select features\n",
    "features = [\"Sex\",\"fareBinned\", \"Pclass\", \"familyBinned\", \"ageBinned\"]\n",
    "\n",
    "# Separate training labels and make dummy variables of categoricals\n",
    "y_train = train_data[\"Survived\"]\n",
    "x_train = pd.get_dummies(train_data[features])\n",
    "x_val = pd.get_dummies(val_data[features])\n",
    "x_test = pd.get_dummies(test_df[features])\n",
    "\n",
    "# Fit model (Adding parameter from tuning below)\n",
    "model1 = RandomForestClassifier(n_estimators=100, max_depth=5, random_state=1, min_samples_leaf = 2,\n",
    "                              min_samples_split = 5)\n",
    "model1.fit(x_train, y_train)\n",
    "\n",
    "# Get train and val predictions \n",
    "train_predictions = model1.predict(x_train)\n",
    "val_predictions = model1.predict(x_val)\n",
    "\n",
    "# Confusion matrix for train predictions\n",
    "plot_confusion_matrix(model1, x_train, y_train) "
   ]
  },
  {
   "cell_type": "code",
   "execution_count": 17,
   "metadata": {
    "execution": {
     "iopub.execute_input": "2021-02-01T14:03:19.924319Z",
     "iopub.status.busy": "2021-02-01T14:03:19.923203Z",
     "iopub.status.idle": "2021-02-01T14:03:20.185000Z",
     "shell.execute_reply": "2021-02-01T14:03:20.184279Z"
    },
    "papermill": {
     "duration": 0.301645,
     "end_time": "2021-02-01T14:03:20.185120",
     "exception": false,
     "start_time": "2021-02-01T14:03:19.883475",
     "status": "completed"
    },
    "tags": []
   },
   "outputs": [
    {
     "data": {
      "text/plain": [
       "<sklearn.metrics._plot.confusion_matrix.ConfusionMatrixDisplay at 0x7f5d494cef10>"
      ]
     },
     "execution_count": 17,
     "metadata": {},
     "output_type": "execute_result"
    },
    {
     "data": {
      "image/png": "[encoded data removed]",
      "text/plain": [
       "<Figure size 432x288 with 2 Axes>"
      ]
     },
     "metadata": {
      "needs_background": "light"
     },
     "output_type": "display_data"
    }
   ],
   "source": [
    "# Confusion matrix for validation set\n",
    "plot_confusion_matrix(model1, x_val, val_labels) "
   ]
  },
  {
   "cell_type": "code",
   "execution_count": 18,
   "metadata": {
    "execution": {
     "iopub.execute_input": "2021-02-01T14:03:20.260861Z",
     "iopub.status.busy": "2021-02-01T14:03:20.259848Z",
     "iopub.status.idle": "2021-02-01T14:03:20.265476Z",
     "shell.execute_reply": "2021-02-01T14:03:20.264540Z"
    },
    "papermill": {
     "duration": 0.04098,
     "end_time": "2021-02-01T14:03:20.265644",
     "exception": false,
     "start_time": "2021-02-01T14:03:20.224664",
     "status": "completed"
    },
    "tags": []
   },
   "outputs": [
    {
     "name": "stdout",
     "output_type": "stream",
     "text": [
      "Training Accuracy: 82.69%\n",
      "Validation Accuracy: 82.09%\n"
     ]
    }
   ],
   "source": [
    "# Print training and test accuracy (Random forest)\n",
    "print(f\"Training Accuracy: {metrics.accuracy_score(y_train, train_predictions) * 100:.2f}%\")\n",
    "print(f\"Validation Accuracy: {metrics.accuracy_score(val_labels, val_predictions) * 100:.2f}%\")"
   ]
  },
  {
   "cell_type": "code",
   "execution_count": 19,
   "metadata": {
    "execution": {
     "iopub.execute_input": "2021-02-01T14:03:20.355082Z",
     "iopub.status.busy": "2021-02-01T14:03:20.353013Z",
     "iopub.status.idle": "2021-02-01T14:03:20.387316Z",
     "shell.execute_reply": "2021-02-01T14:03:20.388042Z"
    },
    "papermill": {
     "duration": 0.077179,
     "end_time": "2021-02-01T14:03:20.388224",
     "exception": false,
     "start_time": "2021-02-01T14:03:20.311045",
     "status": "completed"
    },
    "tags": []
   },
   "outputs": [
    {
     "name": "stdout",
     "output_type": "stream",
     "text": [
      "              precision    recall  f1-score   support\n",
      "\n",
      "           0       0.82      0.88      0.85       475\n",
      "           1       0.76      0.68      0.72       282\n",
      "\n",
      "    accuracy                           0.80       757\n",
      "   macro avg       0.79      0.78      0.78       757\n",
      "weighted avg       0.80      0.80      0.80       757\n",
      "\n",
      "              precision    recall  f1-score   support\n",
      "\n",
      "           0       0.80      0.88      0.84        74\n",
      "           1       0.83      0.73      0.78        60\n",
      "\n",
      "    accuracy                           0.81       134\n",
      "   macro avg       0.82      0.81      0.81       134\n",
      "weighted avg       0.81      0.81      0.81       134\n",
      "\n"
     ]
    }
   ],
   "source": [
    "# Try logistic regression \n",
    "model2 = LogisticRegression(solver='liblinear', random_state=0)\n",
    "model2.fit(x_train, y_train)\n",
    "train_predictions = model2.predict(x_train)\n",
    "val_predictions = model2.predict(x_val)\n",
    "\n",
    "# Print classifcation report train\n",
    "print(classification_report(y_train, train_predictions))\n",
    "\n",
    "# Print classification report val\n",
    "print(classification_report(val_labels, val_predictions))"
   ]
  },
  {
   "cell_type": "code",
   "execution_count": 20,
   "metadata": {
    "execution": {
     "iopub.execute_input": "2021-02-01T14:03:20.488683Z",
     "iopub.status.busy": "2021-02-01T14:03:20.487600Z",
     "iopub.status.idle": "2021-02-01T14:07:03.951533Z",
     "shell.execute_reply": "2021-02-01T14:07:03.950731Z"
    },
    "papermill": {
     "duration": 223.516394,
     "end_time": "2021-02-01T14:07:03.951702",
     "exception": false,
     "start_time": "2021-02-01T14:03:20.435308",
     "status": "completed"
    },
    "tags": []
   },
   "outputs": [
    {
     "name": "stdout",
     "output_type": "stream",
     "text": [
      "Fitting 5 folds for each of 100 candidates, totalling 500 fits\n"
     ]
    },
    {
     "name": "stderr",
     "output_type": "stream",
     "text": [
      "[Parallel(n_jobs=-1)]: Using backend LokyBackend with 4 concurrent workers.\n",
      "[Parallel(n_jobs=-1)]: Done  33 tasks      | elapsed:    4.5s\n",
      "[Parallel(n_jobs=-1)]: Done 154 tasks      | elapsed:   55.3s\n",
      "[Parallel(n_jobs=-1)]: Done 357 tasks      | elapsed:  2.6min\n"
     ]
    },
    {
     "name": "stdout",
     "output_type": "stream",
     "text": [
      "{'n_estimators': 100, 'min_samples_split': 5, 'min_samples_leaf': 2, 'max_features': 'sqrt', 'max_depth': 30}\n"
     ]
    },
    {
     "name": "stderr",
     "output_type": "stream",
     "text": [
      "[Parallel(n_jobs=-1)]: Done 500 out of 500 | elapsed:  3.7min finished\n"
     ]
    }
   ],
   "source": [
    "# Copyright: Open Data Science\n",
    "# Tune decision tree params\n",
    "\n",
    "# Define test parameters\n",
    "n_estimators = [50, 100, 500, 1000, 1500]\n",
    "max_features = ['auto', 'sqrt', 'log2']\n",
    "max_depth = [5, 10, 15, 20, 30]\n",
    "min_samples_split = [2, 5, 10, 15, 20]\n",
    "min_samples_leaf = [1, 2, 5, 10, 15]\n",
    "\n",
    "# Define parameter grid\n",
    "param_grid = {'n_estimators': n_estimators,\n",
    "            'max_features' : max_features,\n",
    "            'max_depth' : max_depth,\n",
    "            'min_samples_split' : min_samples_split,\n",
    "            'min_samples_leaf' : min_samples_leaf}\n",
    "\n",
    "# Defined random forest regressor model\n",
    "RFR = RandomForestRegressor(random_state = 1)\n",
    "RFR_random = RandomizedSearchCV(estimator = RFR, \n",
    "                            param_distributions = param_grid,\n",
    "                            n_iter = 100, cv = 5, verbose = 2,\n",
    "                            random_state = 42, n_jobs = -1)\n",
    "\n",
    "# Fit model\n",
    "RFR_random.fit(x_train, y_train)\n",
    "print(RFR_random.best_params_)"
   ]
  },
  {
   "cell_type": "markdown",
   "metadata": {
    "papermill": {
     "duration": 0.033526,
     "end_time": "2021-02-01T14:07:04.020047",
     "exception": false,
     "start_time": "2021-02-01T14:07:03.986521",
     "status": "completed"
    },
    "tags": []
   },
   "source": [
    "The random forest model performed slightly better than logistic regression. The recommended parameters from parameter tuning did not increase performance. Therefore, a max depth of 5 was better than 30. The final submission score was 78.4."
   ]
  },
  {
   "cell_type": "code",
   "execution_count": 21,
   "metadata": {
    "execution": {
     "iopub.execute_input": "2021-02-01T14:07:04.097071Z",
     "iopub.status.busy": "2021-02-01T14:07:04.093081Z",
     "iopub.status.idle": "2021-02-01T14:07:04.401193Z",
     "shell.execute_reply": "2021-02-01T14:07:04.400352Z"
    },
    "papermill": {
     "duration": 0.347899,
     "end_time": "2021-02-01T14:07:04.401352",
     "exception": false,
     "start_time": "2021-02-01T14:07:04.053453",
     "status": "completed"
    },
    "tags": []
   },
   "outputs": [
    {
     "name": "stdout",
     "output_type": "stream",
     "text": [
      "Your submission was successfully saved!\n"
     ]
    }
   ],
   "source": [
    "# Predict test set\n",
    "test_predictions = model1.predict(x_test)\n",
    "\n",
    "output = pd.DataFrame({'PassengerId': test_df.PassengerId, 'Survived': test_predictions})\n",
    "output.to_csv('my_submission.csv', index=False)\n",
    "print(\"Your submission was successfully saved!\")\n"
   ]
  }
 ],
 "metadata": {
  "kernelspec": {
   "display_name": "Python 3",
   "language": "python",
   "name": "python3"
  },
  "language_info": {
   "codemirror_mode": {
    "name": "ipython",
    "version": 3
   },
   "file_extension": ".py",
   "mimetype": "text/x-python",
   "name": "python",
   "nbconvert_exporter": "python",
   "pygments_lexer": "ipython3",
   "version": "3.7.6"
  },
  "papermill": {
   "duration": 232.776969,
   "end_time": "2021-02-01T14:07:04.556431",
   "environment_variables": {},
   "exception": null,
   "input_path": "__notebook__.ipynb",
   "output_path": "__notebook__.ipynb",
   "parameters": {},
   "start_time": "2021-02-01T14:03:11.779462",
   "version": "2.1.0"
  }
 },
 "nbformat": 4,
 "nbformat_minor": 4
}
